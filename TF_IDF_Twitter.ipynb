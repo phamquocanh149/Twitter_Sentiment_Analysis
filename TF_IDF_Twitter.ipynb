{
  "nbformat": 4,
  "nbformat_minor": 0,
  "metadata": {
    "colab": {
      "provenance": [],
      "authorship_tag": "ABX9TyNFM4SDSqzOqZbDMMseQLZs",
      "include_colab_link": true
    },
    "kernelspec": {
      "name": "python3",
      "display_name": "Python 3"
    },
    "language_info": {
      "name": "python"
    }
  },
  "cells": [
    {
      "cell_type": "markdown",
      "metadata": {
        "id": "view-in-github",
        "colab_type": "text"
      },
      "source": [
        "<a href=\"https://colab.research.google.com/github/phamquocanh149/Twitter_Sentiment_Analysis/blob/main/TF_IDF_Twitter.ipynb\" target=\"_parent\"><img src=\"https://colab.research.google.com/assets/colab-badge.svg\" alt=\"Open In Colab\"/></a>"
      ]
    },
    {
      "cell_type": "code",
      "execution_count": null,
      "metadata": {
        "colab": {
          "base_uri": "https://localhost:8080/"
        },
        "id": "bSk2TufF0Q1l",
        "outputId": "fc0c608e-b08c-46ff-e40b-30321df9552c"
      },
      "outputs": [
        {
          "output_type": "stream",
          "name": "stdout",
          "text": [
            "Mounted at /content/drive\n"
          ]
        }
      ],
      "source": [
        "from google.colab import drive\n",
        "drive.mount('/content/drive')\n"
      ]
    },
    {
      "cell_type": "code",
      "source": [
        "import pandas as pd\n",
        "path1 = \"/content/drive/MyDrive/Colab Notebooks/TwitterSentimentAnalysis/twitter_training.csv\"\n",
        "path2 = \"/content/drive/MyDrive/Colab Notebooks/TwitterSentimentAnalysis/twitter_validation.csv\"\n",
        "train_df = pd.read_csv(path1)\n",
        "test_df = pd.read_csv(path2)\n",
        "print(train_df.head())\n",
        "print(test_df.head())"
      ],
      "metadata": {
        "colab": {
          "base_uri": "https://localhost:8080/"
        },
        "id": "FnXCVOfE0nNf",
        "outputId": "026c459e-f58b-48c8-e59d-29968fcf08b9"
      },
      "execution_count": null,
      "outputs": [
        {
          "output_type": "stream",
          "name": "stdout",
          "text": [
            "   2401  Borderlands  Positive  \\\n",
            "0  2401  Borderlands  Positive   \n",
            "1  2401  Borderlands  Positive   \n",
            "2  2401  Borderlands  Positive   \n",
            "3  2401  Borderlands  Positive   \n",
            "4  2401  Borderlands  Positive   \n",
            "\n",
            "  im getting on borderlands and i will murder you all ,  \n",
            "0  I am coming to the borders and I will kill you...     \n",
            "1  im getting on borderlands and i will kill you ...     \n",
            "2  im coming on borderlands and i will murder you...     \n",
            "3  im getting on borderlands 2 and i will murder ...     \n",
            "4  im getting into borderlands and i can murder y...     \n",
            "   3364   Facebook Irrelevant  \\\n",
            "0   352     Amazon    Neutral   \n",
            "1  8312  Microsoft   Negative   \n",
            "2  4371      CS-GO   Negative   \n",
            "3  4433     Google    Neutral   \n",
            "4  6273       FIFA   Negative   \n",
            "\n",
            "  I mentioned on Facebook that I was struggling for motivation to go for a run the other day, which has been translated by Tom’s great auntie as ‘Hayley can’t get out of bed’ and told to his grandma, who now thinks I’m a lazy, terrible person 🤣  \n",
            "0  BBC News - Amazon boss Jeff Bezos rejects clai...                                                                                                                                                                                                  \n",
            "1  @Microsoft Why do I pay for WORD when it funct...                                                                                                                                                                                                  \n",
            "2  CSGO matchmaking is so full of closet hacking,...                                                                                                                                                                                                  \n",
            "3  Now the President is slapping Americans in the...                                                                                                                                                                                                  \n",
            "4  Hi @EAHelp I’ve had Madeleine McCann in my cel...                                                                                                                                                                                                  \n"
          ]
        }
      ]
    },
    {
      "cell_type": "code",
      "source": [
        "train_df.columns = [\"col1\", \"col2\", \"label\", \"text\"]\n",
        "test_df.columns = [\"col1\", \"col2\", \"label\", \"text\"]\n",
        "train_df = train_df.drop(columns=[\"col1\", \"col2\"])\n",
        "train_df['text'] = train_df['text'].str.lower()\n",
        "test_df['text'] = test_df['text'].str.lower()\n",
        "test_df = test_df.drop(columns=[\"col1\", \"col2\"])\n",
        "print(train_df.head())\n",
        "print(test_df.head())"
      ],
      "metadata": {
        "colab": {
          "base_uri": "https://localhost:8080/"
        },
        "id": "HhGRMgGG2CIu",
        "outputId": "20ce8131-12eb-4886-e6a0-a9fe226af106"
      },
      "execution_count": null,
      "outputs": [
        {
          "output_type": "stream",
          "name": "stdout",
          "text": [
            "      label                                               text\n",
            "0  Positive  i am coming to the borders and i will kill you...\n",
            "1  Positive  im getting on borderlands and i will kill you ...\n",
            "2  Positive  im coming on borderlands and i will murder you...\n",
            "3  Positive  im getting on borderlands 2 and i will murder ...\n",
            "4  Positive  im getting into borderlands and i can murder y...\n",
            "      label                                               text\n",
            "0   Neutral  bbc news - amazon boss jeff bezos rejects clai...\n",
            "1  Negative  @microsoft why do i pay for word when it funct...\n",
            "2  Negative  csgo matchmaking is so full of closet hacking,...\n",
            "3   Neutral  now the president is slapping americans in the...\n",
            "4  Negative  hi @eahelp i’ve had madeleine mccann in my cel...\n"
          ]
        }
      ]
    },
    {
      "cell_type": "code",
      "source": [
        "print(train_df.shape)\n",
        "print(test_df.shape)"
      ],
      "metadata": {
        "colab": {
          "base_uri": "https://localhost:8080/"
        },
        "id": "mYkwi9411EIx",
        "outputId": "b03193b1-5b34-463e-8995-ca6f322f1330"
      },
      "execution_count": null,
      "outputs": [
        {
          "output_type": "stream",
          "name": "stdout",
          "text": [
            "(74681, 2)\n",
            "(999, 2)\n"
          ]
        }
      ]
    },
    {
      "cell_type": "code",
      "source": [
        "print(train_df.columns)\n",
        "print(test_df.columns)"
      ],
      "metadata": {
        "colab": {
          "base_uri": "https://localhost:8080/"
        },
        "id": "vG1YKOSQ1XrH",
        "outputId": "6a8fea34-2d82-4321-fb79-50282a7be158"
      },
      "execution_count": null,
      "outputs": [
        {
          "output_type": "stream",
          "name": "stdout",
          "text": [
            "Index(['label', 'text'], dtype='object')\n",
            "Index(['label', 'text'], dtype='object')\n"
          ]
        }
      ]
    },
    {
      "cell_type": "code",
      "source": [
        "print(train_df['label'].unique())\n",
        "print(test_df['label'].unique())\n",
        "print(\"-----------------------------\")\n",
        "print(train_df['label'].value_counts())\n",
        "print(\"-----------------------------\")\n",
        "print(test_df['label'].value_counts())"
      ],
      "metadata": {
        "colab": {
          "base_uri": "https://localhost:8080/"
        },
        "id": "smeayZsH1sNn",
        "outputId": "5a496e02-2604-4183-b67c-551108a0eb83"
      },
      "execution_count": null,
      "outputs": [
        {
          "output_type": "stream",
          "name": "stdout",
          "text": [
            "['Positive' 'Neutral' 'Negative' 'Irrelevant']\n",
            "['Neutral' 'Negative' 'Positive' 'Irrelevant']\n",
            "-----------------------------\n",
            "label\n",
            "Negative      22542\n",
            "Positive      20831\n",
            "Neutral       18318\n",
            "Irrelevant    12990\n",
            "Name: count, dtype: int64\n",
            "-----------------------------\n",
            "label\n",
            "Neutral       285\n",
            "Positive      277\n",
            "Negative      266\n",
            "Irrelevant    171\n",
            "Name: count, dtype: int64\n"
          ]
        }
      ]
    },
    {
      "cell_type": "code",
      "source": [
        "from sklearn.preprocessing import LabelEncoder\n",
        "le = LabelEncoder()\n",
        "\n",
        "# Drop rows with missing values in the 'text' column BEFORE encoding labels\n",
        "train_df.dropna(subset=['text'], inplace=True)\n",
        "test_df.dropna(subset=['text'], inplace=True)\n",
        "\n",
        "y_train = le.fit_transform(train_df['label'])\n",
        "y_test = le.transform(test_df['label'])"
      ],
      "metadata": {
        "id": "UrEokZrK2bDv"
      },
      "execution_count": null,
      "outputs": []
    },
    {
      "cell_type": "code",
      "source": [
        "from sklearn.feature_extraction.text import TfidfVectorizer\n",
        "tfidf = TfidfVectorizer(max_features=30000, max_df = 0.8, min_df=2)\n",
        "\n",
        "# Note: Missing values were handled in the previous cell\n",
        "\n",
        "X_train = tfidf.fit_transform(train_df['text'])\n",
        "X_test = tfidf.transform(test_df['text'])"
      ],
      "metadata": {
        "id": "q2DgufWa2_pa"
      },
      "execution_count": null,
      "outputs": []
    },
    {
      "cell_type": "code",
      "source": [
        "from sklearn.metrics import classification_report\n",
        "from sklearn.linear_model import LogisticRegression\n",
        "lr = LogisticRegression()\n",
        "lr.fit(X_train, y_train)\n",
        "y_pred1 = lr.predict(X_test)\n",
        "print(classification_report(y_test, y_pred1))"
      ],
      "metadata": {
        "colab": {
          "base_uri": "https://localhost:8080/"
        },
        "id": "oQ23FT2v3zff",
        "outputId": "80f9d42c-fa57-4fdb-e9f9-c0425a49d5d6"
      },
      "execution_count": null,
      "outputs": [
        {
          "output_type": "stream",
          "name": "stdout",
          "text": [
            "              precision    recall  f1-score   support\n",
            "\n",
            "           0       0.91      0.88      0.90       171\n",
            "           1       0.89      0.94      0.92       266\n",
            "           2       0.96      0.89      0.92       285\n",
            "           3       0.90      0.93      0.91       277\n",
            "\n",
            "    accuracy                           0.91       999\n",
            "   macro avg       0.91      0.91      0.91       999\n",
            "weighted avg       0.92      0.91      0.91       999\n",
            "\n"
          ]
        },
        {
          "output_type": "stream",
          "name": "stderr",
          "text": [
            "/usr/local/lib/python3.12/dist-packages/sklearn/linear_model/_logistic.py:465: ConvergenceWarning: lbfgs failed to converge (status=1):\n",
            "STOP: TOTAL NO. OF ITERATIONS REACHED LIMIT.\n",
            "\n",
            "Increase the number of iterations (max_iter) or scale the data as shown in:\n",
            "    https://scikit-learn.org/stable/modules/preprocessing.html\n",
            "Please also refer to the documentation for alternative solver options:\n",
            "    https://scikit-learn.org/stable/modules/linear_model.html#logistic-regression\n",
            "  n_iter_i = _check_optimize_result(\n"
          ]
        }
      ]
    },
    {
      "cell_type": "code",
      "source": [
        "from sklearn.metrics import accuracy_score\n",
        "from sklearn.ensemble import RandomForestClassifier\n",
        "rf = RandomForestClassifier(random_state = 14, max_depth = 30, n_estimators=3000)\n",
        "rf.fit(X_train, y_train)\n",
        "y_train_pred2 = rf.predict(X_train)\n",
        "y_pred2 = rf.predict(X_test)\n",
        "print(accuracy_score(y_train, y_train_pred2))\n",
        "print(classification_report(y_test, y_pred2))"
      ],
      "metadata": {
        "colab": {
          "base_uri": "https://localhost:8080/"
        },
        "id": "VCFzQqbi52JF",
        "outputId": "6a56f2d6-df07-4d49-fce4-f60584a4533a"
      },
      "execution_count": null,
      "outputs": [
        {
          "output_type": "stream",
          "name": "stdout",
          "text": [
            "0.6763970538549902\n",
            "              precision    recall  f1-score   support\n",
            "\n",
            "           0       1.00      0.15      0.26       171\n",
            "           1       0.63      0.94      0.75       266\n",
            "           2       0.81      0.70      0.75       285\n",
            "           3       0.74      0.88      0.80       277\n",
            "\n",
            "    accuracy                           0.72       999\n",
            "   macro avg       0.79      0.67      0.64       999\n",
            "weighted avg       0.77      0.72      0.68       999\n",
            "\n"
          ]
        }
      ]
    },
    {
      "cell_type": "code",
      "source": [],
      "metadata": {
        "id": "MAC97zFk7kVr"
      },
      "execution_count": null,
      "outputs": []
    }
  ]
}